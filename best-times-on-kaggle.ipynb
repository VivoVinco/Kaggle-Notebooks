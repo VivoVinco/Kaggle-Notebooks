{
 "cells": [
  {
   "cell_type": "code",
   "execution_count": 1,
   "id": "fd70b1ac",
   "metadata": {
    "_cell_guid": "b1076dfc-b9ad-4769-8c92-a6c4dae69d19",
    "_kg_hide-input": true,
    "_uuid": "8f2839f25d086af736a60e9eeb907d3b93b6e0e5",
    "execution": {
     "iopub.execute_input": "2022-02-04T15:06:36.257282Z",
     "iopub.status.busy": "2022-02-04T15:06:36.255449Z",
     "iopub.status.idle": "2022-02-04T15:06:37.911362Z",
     "shell.execute_reply": "2022-02-04T15:06:37.911974Z",
     "shell.execute_reply.started": "2022-02-04T15:03:05.006325Z"
    },
    "papermill": {
     "duration": 1.671322,
     "end_time": "2022-02-04T15:06:37.912333",
     "exception": false,
     "start_time": "2022-02-04T15:06:36.241011",
     "status": "completed"
    },
    "tags": []
   },
   "outputs": [],
   "source": [
    "# libraries\n",
    "import random\n",
    "import pandas as pd\n",
    "import numpy as np\n",
    "import seaborn as sns\n",
    "import networkx as nx\n",
    "import datetime as dt\n",
    "import fuzzywuzzy\n",
    "from fuzzywuzzy import process\n",
    "\n",
    "import matplotlib.pyplot as plt\n",
    "import matplotlib.dates as mpl_dates\n",
    "plt.style.use('ggplot')\n",
    "\n",
    "import matplotlib.font_manager as fm\n",
    "import matplotlib.gridspec as gridspec\n",
    "import warnings; warnings.filterwarnings(\"ignore\")\n",
    "\n",
    "\n",
    "# unhide all rows and columns\n",
    "pd.set_option(\"display.max_rows\", 50)\n",
    "pd.set_option(\"display.max_columns\", 50)\n",
    "pd.set_option(\"display.width\", 1000)\n",
    "\n",
    "# to show multiple outputs of multiple variables from a single cell\n",
    "from IPython.core.interactiveshell import InteractiveShell\n",
    "InteractiveShell.ast_node_interactivity = \"all\"\n",
    "\n",
    "# for character encoding\n",
    "import chardet"
   ]
  },
  {
   "cell_type": "code",
   "execution_count": 2,
   "id": "e436921c",
   "metadata": {
    "execution": {
     "iopub.execute_input": "2022-02-04T15:06:37.938134Z",
     "iopub.status.busy": "2022-02-04T15:06:37.937194Z",
     "iopub.status.idle": "2022-02-04T15:06:51.268888Z",
     "shell.execute_reply": "2022-02-04T15:06:51.269421Z",
     "shell.execute_reply.started": "2022-02-04T15:03:05.015388Z"
    },
    "papermill": {
     "duration": 13.346901,
     "end_time": "2022-02-04T15:06:51.269597",
     "exception": false,
     "start_time": "2022-02-04T15:06:37.922696",
     "status": "completed"
    },
    "tags": []
   },
   "outputs": [
    {
     "data": {
      "text/html": [
       "<div>\n",
       "<style scoped>\n",
       "    .dataframe tbody tr th:only-of-type {\n",
       "        vertical-align: middle;\n",
       "    }\n",
       "\n",
       "    .dataframe tbody tr th {\n",
       "        vertical-align: top;\n",
       "    }\n",
       "\n",
       "    .dataframe thead th {\n",
       "        text-align: right;\n",
       "    }\n",
       "</style>\n",
       "<table border=\"1\" class=\"dataframe\">\n",
       "  <thead>\n",
       "    <tr style=\"text-align: right;\">\n",
       "      <th></th>\n",
       "      <th>Id</th>\n",
       "      <th>ForumTopicId</th>\n",
       "      <th>PostUserId</th>\n",
       "      <th>PostDate</th>\n",
       "      <th>ReplyToForumMessageId</th>\n",
       "      <th>Message</th>\n",
       "      <th>Medal</th>\n",
       "      <th>MedalAwardDate</th>\n",
       "    </tr>\n",
       "  </thead>\n",
       "  <tbody>\n",
       "    <tr>\n",
       "      <th>0</th>\n",
       "      <td>1412</td>\n",
       "      <td>197</td>\n",
       "      <td>4538</td>\n",
       "      <td>11/24/2010 02:44:04</td>\n",
       "      <td>NaN</td>\n",
       "      <td>120822+164809 rows&amp;nbsp; x61 cols of data. Pyt...</td>\n",
       "      <td>NaN</td>\n",
       "      <td>NaN</td>\n",
       "    </tr>\n",
       "    <tr>\n",
       "      <th>1</th>\n",
       "      <td>1413</td>\n",
       "      <td>197</td>\n",
       "      <td>4596</td>\n",
       "      <td>11/24/2010 02:44:04</td>\n",
       "      <td>NaN</td>\n",
       "      <td>I'm not sure you've actually tried it. &amp;nbsp;I...</td>\n",
       "      <td>NaN</td>\n",
       "      <td>NaN</td>\n",
       "    </tr>\n",
       "    <tr>\n",
       "      <th>2</th>\n",
       "      <td>1414</td>\n",
       "      <td>197</td>\n",
       "      <td>4538</td>\n",
       "      <td>11/24/2010 02:44:04</td>\n",
       "      <td>NaN</td>\n",
       "      <td>Just tell me how long it takes for python to r...</td>\n",
       "      <td>NaN</td>\n",
       "      <td>NaN</td>\n",
       "    </tr>\n",
       "    <tr>\n",
       "      <th>3</th>\n",
       "      <td>1415</td>\n",
       "      <td>197</td>\n",
       "      <td>3826</td>\n",
       "      <td>11/24/2010 02:44:04</td>\n",
       "      <td>NaN</td>\n",
       "      <td>mines between 5.7 and 5.9 seconds. &amp;nbsp;Sure ...</td>\n",
       "      <td>NaN</td>\n",
       "      <td>NaN</td>\n",
       "    </tr>\n",
       "    <tr>\n",
       "      <th>4</th>\n",
       "      <td>1416</td>\n",
       "      <td>197</td>\n",
       "      <td>4538</td>\n",
       "      <td>11/24/2010 02:44:04</td>\n",
       "      <td>NaN</td>\n",
       "      <td>Can you post code for loading and parsing? Loo...</td>\n",
       "      <td>NaN</td>\n",
       "      <td>NaN</td>\n",
       "    </tr>\n",
       "  </tbody>\n",
       "</table>\n",
       "</div>"
      ],
      "text/plain": [
       "     Id  ForumTopicId  PostUserId             PostDate  ReplyToForumMessageId                                            Message  Medal MedalAwardDate\n",
       "0  1412           197        4538  11/24/2010 02:44:04                    NaN  120822+164809 rows&nbsp; x61 cols of data. Pyt...    NaN            NaN\n",
       "1  1413           197        4596  11/24/2010 02:44:04                    NaN  I'm not sure you've actually tried it. &nbsp;I...    NaN            NaN\n",
       "2  1414           197        4538  11/24/2010 02:44:04                    NaN  Just tell me how long it takes for python to r...    NaN            NaN\n",
       "3  1415           197        3826  11/24/2010 02:44:04                    NaN  mines between 5.7 and 5.9 seconds. &nbsp;Sure ...    NaN            NaN\n",
       "4  1416           197        4538  11/24/2010 02:44:04                    NaN  Can you post code for loading and parsing? Loo...    NaN            NaN"
      ]
     },
     "execution_count": 2,
     "metadata": {},
     "output_type": "execute_result"
    }
   ],
   "source": [
    "# load data\n",
    "dataset = \"../input/meta-kaggle/ForumMessages.csv\"\n",
    "df = pd.read_csv(dataset, delimiter=\",\", encoding=\"latin-1\")\n",
    "df.head()"
   ]
  },
  {
   "cell_type": "code",
   "execution_count": 3,
   "id": "d3666d3c",
   "metadata": {
    "execution": {
     "iopub.execute_input": "2022-02-04T15:06:51.301501Z",
     "iopub.status.busy": "2022-02-04T15:06:51.300470Z",
     "iopub.status.idle": "2022-02-04T15:06:51.308822Z",
     "shell.execute_reply": "2022-02-04T15:06:51.309932Z",
     "shell.execute_reply.started": "2022-02-04T15:03:13.165585Z"
    },
    "papermill": {
     "duration": 0.03179,
     "end_time": "2022-02-04T15:06:51.310159",
     "exception": false,
     "start_time": "2022-02-04T15:06:51.278369",
     "status": "completed"
    },
    "tags": []
   },
   "outputs": [
    {
     "data": {
      "text/plain": [
       "Id                         int64\n",
       "ForumTopicId               int64\n",
       "PostUserId                 int64\n",
       "PostDate                  object\n",
       "ReplyToForumMessageId    float64\n",
       "Message                   object\n",
       "Medal                    float64\n",
       "MedalAwardDate            object\n",
       "dtype: object"
      ]
     },
     "execution_count": 3,
     "metadata": {},
     "output_type": "execute_result"
    }
   ],
   "source": [
    "df.dtypes"
   ]
  },
  {
   "cell_type": "code",
   "execution_count": 4,
   "id": "f07a95e6",
   "metadata": {
    "execution": {
     "iopub.execute_input": "2022-02-04T15:06:51.445976Z",
     "iopub.status.busy": "2022-02-04T15:06:51.445158Z",
     "iopub.status.idle": "2022-02-04T15:09:25.147916Z",
     "shell.execute_reply": "2022-02-04T15:09:25.148567Z",
     "shell.execute_reply.started": "2022-02-04T15:03:13.175155Z"
    },
    "papermill": {
     "duration": 153.828945,
     "end_time": "2022-02-04T15:09:25.148805",
     "exception": false,
     "start_time": "2022-02-04T15:06:51.319860",
     "status": "completed"
    },
    "tags": []
   },
   "outputs": [],
   "source": [
    "df.PostDate = pd.to_datetime(df.PostDate)"
   ]
  },
  {
   "cell_type": "code",
   "execution_count": 5,
   "id": "f46c8d0f",
   "metadata": {
    "execution": {
     "iopub.execute_input": "2022-02-04T15:09:25.172472Z",
     "iopub.status.busy": "2022-02-04T15:09:25.171320Z",
     "iopub.status.idle": "2022-02-04T15:09:25.226184Z",
     "shell.execute_reply": "2022-02-04T15:09:25.225634Z",
     "shell.execute_reply.started": "2022-02-04T15:05:22.077694Z"
    },
    "papermill": {
     "duration": 0.067924,
     "end_time": "2022-02-04T15:09:25.226360",
     "exception": false,
     "start_time": "2022-02-04T15:09:25.158436",
     "status": "completed"
    },
    "tags": []
   },
   "outputs": [
    {
     "data": {
      "text/html": [
       "<div>\n",
       "<style scoped>\n",
       "    .dataframe tbody tr th:only-of-type {\n",
       "        vertical-align: middle;\n",
       "    }\n",
       "\n",
       "    .dataframe tbody tr th {\n",
       "        vertical-align: top;\n",
       "    }\n",
       "\n",
       "    .dataframe thead th {\n",
       "        text-align: right;\n",
       "    }\n",
       "</style>\n",
       "<table border=\"1\" class=\"dataframe\">\n",
       "  <thead>\n",
       "    <tr style=\"text-align: right;\">\n",
       "      <th></th>\n",
       "      <th>Id</th>\n",
       "      <th>ForumTopicId</th>\n",
       "      <th>PostUserId</th>\n",
       "      <th>PostDate</th>\n",
       "      <th>ReplyToForumMessageId</th>\n",
       "      <th>Message</th>\n",
       "      <th>Medal</th>\n",
       "      <th>MedalAwardDate</th>\n",
       "    </tr>\n",
       "  </thead>\n",
       "  <tbody>\n",
       "    <tr>\n",
       "      <th>2646</th>\n",
       "      <td>1634638</td>\n",
       "      <td>297587</td>\n",
       "      <td>6674022</td>\n",
       "      <td>2022-01-01 00:01:31</td>\n",
       "      <td>1633064.0</td>\n",
       "      <td>&lt;p&gt;A few vacation nights ð¤£&lt;/p&gt;</td>\n",
       "      <td>3.0</td>\n",
       "      <td>01/02/2022</td>\n",
       "    </tr>\n",
       "    <tr>\n",
       "      <th>27509</th>\n",
       "      <td>1634639</td>\n",
       "      <td>292470</td>\n",
       "      <td>2116564</td>\n",
       "      <td>2022-01-01 00:01:56</td>\n",
       "      <td>1632667.0</td>\n",
       "      <td>&lt;p&gt;tank you reply. &lt;br&gt;\\nyou are a really hard...</td>\n",
       "      <td>NaN</td>\n",
       "      <td>NaN</td>\n",
       "    </tr>\n",
       "    <tr>\n",
       "      <th>7934</th>\n",
       "      <td>1634640</td>\n",
       "      <td>298131</td>\n",
       "      <td>19298</td>\n",
       "      <td>2022-01-01 00:04:20</td>\n",
       "      <td>NaN</td>\n",
       "      <td>&lt;p&gt;Congratulations everyone! The TSP had surpr...</td>\n",
       "      <td>1.0</td>\n",
       "      <td>01/02/2022</td>\n",
       "    </tr>\n",
       "    <tr>\n",
       "      <th>3089</th>\n",
       "      <td>1634641</td>\n",
       "      <td>297960</td>\n",
       "      <td>2116564</td>\n",
       "      <td>2022-01-01 00:16:45</td>\n",
       "      <td>1633485.0</td>\n",
       "      <td>&lt;p&gt;you meanâ¦ Overfitting is Key Solution?&lt;/p&gt;</td>\n",
       "      <td>3.0</td>\n",
       "      <td>01/02/2022</td>\n",
       "    </tr>\n",
       "    <tr>\n",
       "      <th>7924</th>\n",
       "      <td>1634642</td>\n",
       "      <td>298050</td>\n",
       "      <td>2116564</td>\n",
       "      <td>2022-01-01 00:18:42</td>\n",
       "      <td>1634101.0</td>\n",
       "      <td>&lt;p&gt;Would you please add S.Korean? :)&lt;br&gt;\\nìí...</td>\n",
       "      <td>3.0</td>\n",
       "      <td>01/01/2022</td>\n",
       "    </tr>\n",
       "  </tbody>\n",
       "</table>\n",
       "</div>"
      ],
      "text/plain": [
       "            Id  ForumTopicId  PostUserId            PostDate  ReplyToForumMessageId                                            Message  Medal MedalAwardDate\n",
       "2646   1634638        297587     6674022 2022-01-01 00:01:31              1633064.0                  <p>A few vacation nights ð¤£</p>    3.0     01/02/2022\n",
       "27509  1634639        292470     2116564 2022-01-01 00:01:56              1632667.0  <p>tank you reply. <br>\\nyou are a really hard...    NaN            NaN\n",
       "7934   1634640        298131       19298 2022-01-01 00:04:20                    NaN  <p>Congratulations everyone! The TSP had surpr...    1.0     01/02/2022\n",
       "3089   1634641        297960     2116564 2022-01-01 00:16:45              1633485.0    <p>you meanâ¦ Overfitting is Key Solution?</p>    3.0     01/02/2022\n",
       "7924   1634642        298050     2116564 2022-01-01 00:18:42              1634101.0  <p>Would you please add S.Korean? :)<br>\\nìí...    3.0     01/01/2022"
      ]
     },
     "execution_count": 5,
     "metadata": {},
     "output_type": "execute_result"
    }
   ],
   "source": [
    "df22 = df[df.PostDate >= \"01/01/2022 00:00:00\"].reset_index(drop=True).sort_values(\"PostDate\")\n",
    "df22.head()"
   ]
  },
  {
   "cell_type": "code",
   "execution_count": 6,
   "id": "f74c5122",
   "metadata": {
    "execution": {
     "iopub.execute_input": "2022-02-04T15:09:25.249495Z",
     "iopub.status.busy": "2022-02-04T15:09:25.248760Z",
     "iopub.status.idle": "2022-02-04T15:09:25.280416Z",
     "shell.execute_reply": "2022-02-04T15:09:25.280933Z",
     "shell.execute_reply.started": "2022-02-04T15:05:22.116482Z"
    },
    "papermill": {
     "duration": 0.045184,
     "end_time": "2022-02-04T15:09:25.281113",
     "exception": false,
     "start_time": "2022-02-04T15:09:25.235929",
     "status": "completed"
    },
    "tags": []
   },
   "outputs": [
    {
     "data": {
      "text/plain": [
       "0      635\n",
       "1      765\n",
       "2      824\n",
       "3      892\n",
       "4     1029\n",
       "5     1174\n",
       "6     1354\n",
       "7     1243\n",
       "8     1329\n",
       "9     1469\n",
       "10    1460\n",
       "11    1540\n",
       "12    1559\n",
       "13    1710\n",
       "14    1818\n",
       "15    1650\n",
       "16    1920\n",
       "17    1632\n",
       "18    1536\n",
       "19    1466\n",
       "20    1266\n",
       "21     976\n",
       "22     735\n",
       "23     685\n",
       "Name: Hour, dtype: int64"
      ]
     },
     "execution_count": 6,
     "metadata": {},
     "output_type": "execute_result"
    }
   ],
   "source": [
    "hour = pd.to_datetime(df22[\"PostDate\"]).dt.hour\n",
    "df22.insert(5,\"Hour\",hour)\n",
    "\n",
    "count = df22.Hour.value_counts()\n",
    "count.sort_index()"
   ]
  },
  {
   "cell_type": "code",
   "execution_count": 7,
   "id": "dd3857fb",
   "metadata": {
    "execution": {
     "iopub.execute_input": "2022-02-04T15:09:25.304489Z",
     "iopub.status.busy": "2022-02-04T15:09:25.303722Z",
     "iopub.status.idle": "2022-02-04T15:09:25.787841Z",
     "shell.execute_reply": "2022-02-04T15:09:25.788373Z",
     "shell.execute_reply.started": "2022-02-04T15:05:22.141569Z"
    },
    "papermill": {
     "duration": 0.497594,
     "end_time": "2022-02-04T15:09:25.788588",
     "exception": false,
     "start_time": "2022-02-04T15:09:25.290994",
     "status": "completed"
    },
    "tags": []
   },
   "outputs": [
    {
     "data": {
      "text/plain": [
       "<Figure size 1080x720 with 0 Axes>"
      ]
     },
     "execution_count": 7,
     "metadata": {},
     "output_type": "execute_result"
    },
    {
     "data": {
      "text/plain": [
       "Text(0.5, 1.0, 'Number of Forum Messages by Hour')"
      ]
     },
     "execution_count": 7,
     "metadata": {},
     "output_type": "execute_result"
    },
    {
     "data": {
      "text/plain": [
       "Text(0, 0.5, 'Number of Forum Messages')"
      ]
     },
     "execution_count": 7,
     "metadata": {},
     "output_type": "execute_result"
    },
    {
     "data": {
      "text/plain": [
       "Text(0.5, 0, 'Hour')"
      ]
     },
     "execution_count": 7,
     "metadata": {},
     "output_type": "execute_result"
    },
    {
     "data": {
      "text/plain": [
       "<AxesSubplot:title={'center':'Number of Forum Messages by Hour'}, xlabel='Hour', ylabel='Number of Forum Messages'>"
      ]
     },
     "execution_count": 7,
     "metadata": {},
     "output_type": "execute_result"
    },
    {
     "data": {
      "image/png": "[encoded data removed]",
      "text/plain": [
       "<Figure size 1080x720 with 1 Axes>"
      ]
     },
     "metadata": {},
     "output_type": "display_data"
    }
   ],
   "source": [
    "plt.figure(figsize=(15,10))\n",
    "plt.title(\"Number of Forum Messages by Hour\")\n",
    "plt.ylabel(\"Number of Forum Messages\")\n",
    "plt.xlabel(\"Hour\")\n",
    "count.sort_index().plot.bar(x=df22.Hour)"
   ]
  },
  {
   "cell_type": "markdown",
   "id": "1355e9d0",
   "metadata": {
    "papermill": {
     "duration": 0.012466,
     "end_time": "2022-02-04T15:09:25.813748",
     "exception": false,
     "start_time": "2022-02-04T15:09:25.801282",
     "status": "completed"
    },
    "tags": []
   },
   "source": [
    "**Jan 2022: Best time to maximize the chance of user interaction on Kaggle is from 13:00 to 17:00 GMT.**"
   ]
  },
  {
   "cell_type": "markdown",
   "id": "91ca9b9a",
   "metadata": {
    "papermill": {
     "duration": 0.012529,
     "end_time": "2022-02-04T15:09:25.839078",
     "exception": false,
     "start_time": "2022-02-04T15:09:25.826549",
     "status": "completed"
    },
    "tags": []
   },
   "source": [
    "**If you're reading this, please upvote.**"
   ]
  }
 ],
 "metadata": {
  "kernelspec": {
   "display_name": "Python 3",
   "language": "python",
   "name": "python3"
  },
  "language_info": {
   "codemirror_mode": {
    "name": "ipython",
    "version": 3
   },
   "file_extension": ".py",
   "mimetype": "text/x-python",
   "name": "python",
   "nbconvert_exporter": "python",
   "pygments_lexer": "ipython3",
   "version": "3.7.12"
  },
  "papermill": {
   "default_parameters": {},
   "duration": 182.816272,
   "end_time": "2022-02-04T15:09:26.865501",
   "environment_variables": {},
   "exception": null,
   "input_path": "__notebook__.ipynb",
   "output_path": "__notebook__.ipynb",
   "parameters": {},
   "start_time": "2022-02-04T15:06:24.049229",
   "version": "2.3.3"
  }
 },
 "nbformat": 4,
 "nbformat_minor": 5
}
